{
 "cells": [
  {
   "cell_type": "code",
   "execution_count": 12,
   "metadata": {},
   "outputs": [
    {
     "name": "stdout",
     "output_type": "stream",
     "text": [
      "Done\n"
     ]
    }
   ],
   "source": [
    "# import python libs\n",
    "import pprint\n",
    "import math\n",
    "\n",
    "# import 3rd party library\n",
    "import mne\n",
    "import numpy as np\n",
    "import matplotlib.pyplot as plt\n",
    "\n",
    "# SVM\n",
    "from sklearn.svm import SVC\n",
    "# Decision Tree\n",
    "from sklearn import tree\n",
    "# ANN\n",
    "from sklearn.neural_network import MLPClassifier\n",
    "\n",
    "\n",
    "# We define the window size as 1024.\n",
    "window_sz = 1024\n",
    "\n",
    "#####################################################################\n",
    "# Part1. We divide the each user data with 70% training data        # \n",
    "# and 30% testing data. You should also label the data, 1 for open, #\n",
    "# 0 for close.                                                      #\n",
    "#                                                                   #\n",
    "#####################################################################\n",
    "\n",
    "train_matrix, train_labels = [], []\n",
    "test_matrix, test_labels = [], []\n",
    "\n",
    "# Iterate from user 1 to user 50\n",
    "for user in range(1, 2):\n",
    "    file_id = '00' + str(user)\n",
    "    file_id = file_id if len(file_id) == 3 else file_id[1:]\n",
    "    \n",
    "    # Load eye-open edf for a user.\n",
    "    open_raw = mne.io.read_raw_edf(\"data/S{}R01.edf\".format(file_id), preload=True, verbose=False)\n",
    "    m, n = len(open_raw._data), len(open_raw._data[0])\n",
    "    \n",
    "    # eye-open train\n",
    "    for j in range(int(n * 0.7)):\n",
    "        row = []\n",
    "        for i in range(m):\n",
    "            row.append(open_raw._data[i][j])\n",
    "        train_matrix.append(row)\n",
    "        train_labels.append(1)\n",
    "\n",
    "    # eye-open test\n",
    "    for j in range(int(n * 0.7), n):\n",
    "        row = []\n",
    "        for i in range(m):\n",
    "            row.append(open_raw._data[i][j])\n",
    "        test_matrix.append(row)\n",
    "        test_labels.append(1)\n",
    "\n",
    "    # Load eye-close edf for a user.\n",
    "    close_raw = mne.io.read_raw_edf(\"data/S{}R02.edf\".format(file_id), preload=True, verbose=False)\n",
    "    m, n = len(close_raw._data), len(close_raw._data[0])\n",
    "    \n",
    "    # eye-close train\n",
    "    for j in range(int(n * 0.7)):\n",
    "        row = []\n",
    "        for i in range(m):\n",
    "            row.append(close_raw._data[i][j])\n",
    "        train_matrix.append(row)\n",
    "        train_labels.append(0)\n",
    "\n",
    "    # eye-close test\n",
    "    for j in range(int(n * 0.7), n):\n",
    "        row = []\n",
    "        for i in range(m):\n",
    "            row.append(close_raw._data[i][j])\n",
    "        test_matrix.append(row)\n",
    "        test_labels.append(0)\n",
    "    \n",
    "print('Done')"
   ]
  },
  {
   "cell_type": "code",
   "execution_count": 13,
   "metadata": {},
   "outputs": [
    {
     "name": "stdout",
     "output_type": "stream",
     "text": [
      "ACC: 0.5013661202185792\n"
     ]
    }
   ],
   "source": [
    "\n",
    "#####################################################################\n",
    "# Part2. Since we have categorized the data in Part.1, we need to   #\n",
    "# to fit the data to SVM anc calculate the accurarcy.               #\n",
    "#####################################################################\n",
    "\n",
    "# init svm\n",
    "clf = SVC(gamma='auto')\n",
    "clf.fit(train_matrix, train_labels) \n",
    "\n",
    "# get predict result\n",
    "correct = 0\n",
    "predict_labels = clf.predict(test_matrix)\n",
    "for i in range(len(test_labels)):\n",
    "    if predict_labels[i] == test_labels[i]:\n",
    "        correct += 1\n",
    "\n",
    "# print the accuracy\n",
    "print('ACC:', correct / len(test_labels))\n",
    "\n"
   ]
  },
  {
   "cell_type": "code",
   "execution_count": 14,
   "metadata": {},
   "outputs": [
    {
     "name": "stdout",
     "output_type": "stream",
     "text": [
      "ACC: 0.704405737704918\n"
     ]
    }
   ],
   "source": [
    "\n",
    "#####################################################################\n",
    "# Part3. Since we have categorized the data in Part.1, we need to   #\n",
    "# to fit the data to Decision Tree and calculate the accurarcy.     #\n",
    "#####################################################################\n",
    "\n",
    "clf = tree.DecisionTreeClassifier()\n",
    "clf = clf.fit(train_matrix, train_labels)\n",
    "\n",
    "# get predict result\n",
    "correct = 0\n",
    "predict_labels = clf.predict(test_matrix)\n",
    "for i in range(len(test_labels)):\n",
    "    if predict_labels[i] == test_labels[i]:\n",
    "        correct += 1\n",
    "\n",
    "# print the accuracy\n",
    "print('ACC:', correct / len(test_labels))\n"
   ]
  },
  {
   "cell_type": "code",
   "execution_count": 18,
   "metadata": {},
   "outputs": [
    {
     "name": "stdout",
     "output_type": "stream",
     "text": [
      "ACC: 0.5\n"
     ]
    }
   ],
   "source": [
    "\n",
    "#####################################################################\n",
    "# Part4. Since we have categorized the data in Part.1, we need to   #\n",
    "# to fit the data to Neural network and calculate the accurarcy.    #\n",
    "#####################################################################\n",
    "\n",
    "clf = MLPClassifier()\n",
    "clf = clf.fit(train_matrix, train_labels)\n",
    "\n",
    "# get predict result\n",
    "correct = 0\n",
    "predict_labels = clf.predict(test_matrix)\n",
    "for i in range(len(test_labels)):\n",
    "    if predict_labels[i] == test_labels[i]:\n",
    "        correct += 1\n",
    "\n",
    "# print the accuracy\n",
    "print('ACC:', correct / len(test_labels))\n",
    "\n"
   ]
  }
 ],
 "metadata": {
  "kernelspec": {
   "display_name": "Python 3",
   "language": "python",
   "name": "python3"
  },
  "language_info": {
   "codemirror_mode": {
    "name": "ipython",
    "version": 3
   },
   "file_extension": ".py",
   "mimetype": "text/x-python",
   "name": "python",
   "nbconvert_exporter": "python",
   "pygments_lexer": "ipython3",
   "version": "3.6.4"
  }
 },
 "nbformat": 4,
 "nbformat_minor": 2
}
